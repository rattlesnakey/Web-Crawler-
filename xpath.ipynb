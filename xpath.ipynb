{
 "cells": [
  {
   "cell_type": "markdown",
   "metadata": {},
   "source": [
    "xpath,是xml路径语言，是专门再xml文档中查找信息的语言\n",
    "同样也适用于搜HTML文档\n",
    "nodename 选取此结点的所有子节点\n",
    "/ 从当前结点选取直接子节点\n",
    "// 从当前结点选取子孙结点\n",
    ". 选取当前结点\n",
    ".. 选取当前节点的父节点\n",
    "@ 选取属性\n",
    "比如“//title[@lang='eng]”代表所有名称为title，同时属性lang的值为eng的结点\n",
    "xpath 是一种规则，用python的lxml库，利用xpath 规则对html解析\n",
    "开头都是//，在开头//后面继续有出现/才代表子节点或子孙节点"
   ]
  },
  {
   "cell_type": "code",
   "execution_count": 16,
   "metadata": {},
   "outputs": [
    {
     "name": "stdout",
     "output_type": "stream",
     "text": [
      "<html><body><div>\n",
      "<ul>\n",
      "<li class=\"item-0\"><a href=\"link1.html\">first item</a></li> \n",
      "<li class=\"item-1\"><a href=\"link2.html\">second item</a></li> \n",
      "<li class=\"item-inactive\"><a href=\"link3.html\">third item</a></li>\n",
      "<li class=\"item-1\"><a href=\"link4.html\">fourth item</a></li>\n",
      "<li class=\"item-0\"><a href=\"links.html\">fifth item</a></li></ul></div></body></html>\n"
     ]
    }
   ],
   "source": [
    "from lxml import etree\n",
    "text='''<div>\n",
    "<ul>\n",
    "<li class=\"item-0\"><a href=\"link1.html\">first item</a></li> \n",
    "<li class=\"item-1\"><a href=\"link2.html\">second item</a></li> \n",
    "<li class=\"item-inactive\"><a href=\"link3.html\">third item</a></li>\n",
    "<li class=\"item-1\"><a href=\"link4.html\">fourth item</a></li>\n",
    "<li class=\"item-0\"><a href=\"links.html\">fifth item</a></ul></div>'''\n",
    "html=etree.HTML(text)#用HTML类对它进行初始化，把它转化成一个一个可以用XPATH解析的对象\n",
    "result=etree.tostring(html)#对这个对象里面的内容进行补全\n",
    "print(result.decode(\"utf8\"))\n",
    "#也可以用etree.parse(\"filename\",etree.HTMLParse()),表示用etree.HTMLParse这个方法去解析这个文件"
   ]
  },
  {
   "cell_type": "code",
   "execution_count": null,
   "metadata": {},
   "outputs": [],
   "source": []
  },
  {
   "cell_type": "code",
   "execution_count": null,
   "metadata": {},
   "outputs": [],
   "source": []
  },
  {
   "cell_type": "code",
   "execution_count": 3,
   "metadata": {
    "scrolled": true
   },
   "outputs": [
    {
     "name": "stdout",
     "output_type": "stream",
     "text": [
      "[<Element html at 0x28761750d08>, <Element body at 0x287616943c8>, <Element div at 0x28761750dc8>, <Element ul at 0x28761750e08>, <Element li at 0x28761750e48>, <Element a at 0x28761750ec8>, <Element li at 0x28761750f08>, <Element a at 0x28761750f48>, <Element li at 0x28761750f88>, <Element a at 0x28761750e88>, <Element li at 0x28761750fc8>, <Element a at 0x28761759048>, <Element li at 0x28761759088>, <Element a at 0x287617590c8>]\n"
     ]
    }
   ],
   "source": [
    "result1=result.decode(\"utf8\")\n",
    "html=etree.HTML(result)#记得要把它转化成这个对象才可以\n",
    "result2=html.xpath(\"//*\")#查询所有的结点\n",
    "print(result2)"
   ]
  },
  {
   "cell_type": "code",
   "execution_count": null,
   "metadata": {},
   "outputs": [],
   "source": []
  },
  {
   "cell_type": "code",
   "execution_count": 4,
   "metadata": {
    "scrolled": true
   },
   "outputs": [
    {
     "name": "stdout",
     "output_type": "stream",
     "text": [
      "[<Element li at 0x28761750e48>, <Element li at 0x28761750f08>, <Element li at 0x28761750f88>, <Element li at 0x28761750fc8>, <Element li at 0x28761759088>]\n"
     ]
    }
   ],
   "source": [
    "result3=html.xpath(\"//li\")#查询li结点\n",
    "print(result3)"
   ]
  },
  {
   "cell_type": "code",
   "execution_count": null,
   "metadata": {},
   "outputs": [],
   "source": []
  },
  {
   "cell_type": "code",
   "execution_count": 5,
   "metadata": {},
   "outputs": [
    {
     "name": "stdout",
     "output_type": "stream",
     "text": [
      "[<Element a at 0x28761750ec8>, <Element a at 0x28761750f48>, <Element a at 0x28761750e88>, <Element a at 0x28761759048>, <Element a at 0x287617590c8>]\n"
     ]
    }
   ],
   "source": [
    "result4=html.xpath(\"//li/a\")#查询li的子节点a结点,子孙结点的话就是//\n",
    "print(result4)"
   ]
  },
  {
   "cell_type": "code",
   "execution_count": null,
   "metadata": {},
   "outputs": [],
   "source": []
  },
  {
   "cell_type": "code",
   "execution_count": null,
   "metadata": {},
   "outputs": [],
   "source": []
  },
  {
   "cell_type": "code",
   "execution_count": 6,
   "metadata": {},
   "outputs": [
    {
     "name": "stdout",
     "output_type": "stream",
     "text": [
      "['item-1']\n"
     ]
    }
   ],
   "source": [
    "result5=html.xpath('//a[@href=\"link4.html\"]/../@class')#用单引号如果里面有双引号的话，区分，这里可以把..改成parent::*替换\n",
    "print(result5)#查询href=...的a节点的父亲节的class属性，"
   ]
  },
  {
   "cell_type": "code",
   "execution_count": 7,
   "metadata": {},
   "outputs": [
    {
     "name": "stdout",
     "output_type": "stream",
     "text": [
      "[<Element li at 0x28761750e48>, <Element li at 0x28761759088>]\n"
     ]
    }
   ],
   "source": [
    "result6=html.xpath(\"//li[@class='item-0']\")#查找class 属性值为item-0的li 结点\n",
    "print(result6)"
   ]
  },
  {
   "cell_type": "code",
   "execution_count": 9,
   "metadata": {},
   "outputs": [
    {
     "name": "stdout",
     "output_type": "stream",
     "text": [
      "['first item', 'fifth item']\n"
     ]
    }
   ],
   "source": [
    "result7=html.xpath(\"//li[@class='item-0']/a/text()\")#查找class 属性值为item-0的子结点a里面的文本内容\n",
    "print(result7)"
   ]
  },
  {
   "cell_type": "code",
   "execution_count": 13,
   "metadata": {},
   "outputs": [
    {
     "name": "stdout",
     "output_type": "stream",
     "text": [
      "[]\n"
     ]
    }
   ],
   "source": [
    "result8=html.xpath(\"//li[@class='item-0']/text()\")#获取子孙结点的所有文本内容\n",
    "print(result8)#里面确实没有换行符"
   ]
  },
  {
   "cell_type": "code",
   "execution_count": 17,
   "metadata": {},
   "outputs": [
    {
     "name": "stdout",
     "output_type": "stream",
     "text": [
      "['link1.html', 'link2.html', 'link3.html', 'link4.html', 'links.html']\n"
     ]
    }
   ],
   "source": [
    "result=html.xpath(\"//li/a/@href\")#把所有href 的属性值都拿出来\n",
    "print(result)"
   ]
  },
  {
   "cell_type": "code",
   "execution_count": null,
   "metadata": {},
   "outputs": [],
   "source": [
    "#一个属性可能包含了多个值这时候就需要用到contains()函数\n",
    "#只要包含了其中的一个值就可以了，多个属性确定一个结点的时候用and连接\n",
    "#xpath(\"//li[contains(@class,\"li\") and name=\"item\"]/a/text()) 就是多属性匹配了"
   ]
  },
  {
   "cell_type": "code",
   "execution_count": null,
   "metadata": {},
   "outputs": [],
   "source": []
  },
  {
   "cell_type": "code",
   "execution_count": null,
   "metadata": {},
   "outputs": [],
   "source": []
  },
  {
   "cell_type": "markdown",
   "metadata": {},
   "source": [
    "按序的话，就是可以查找多个li结点你要哪一个\n",
    "//li[1],li[last()],li[position()<3],li[last()-2],就是索引看你要第几个，注意第一个就是以1开头，不是0\n",
    "\n",
    "\n",
    "ancestor::*代表获得所有的祖先接待你，在冒号后面还可以添加限定ancestor::div 这样的，attribute 就是获取属性，child 孩子,descendant可以获取子孙\n",
    "following 是当前结点之后的所有结点,following-sibling 就是当前结点之后的所有同级结点"
   ]
  },
  {
   "cell_type": "code",
   "execution_count": null,
   "metadata": {},
   "outputs": [],
   "source": []
  },
  {
   "cell_type": "code",
   "execution_count": null,
   "metadata": {},
   "outputs": [],
   "source": []
  },
  {
   "cell_type": "code",
   "execution_count": null,
   "metadata": {},
   "outputs": [],
   "source": []
  },
  {
   "cell_type": "code",
   "execution_count": null,
   "metadata": {},
   "outputs": [],
   "source": []
  },
  {
   "cell_type": "code",
   "execution_count": null,
   "metadata": {},
   "outputs": [],
   "source": []
  },
  {
   "cell_type": "code",
   "execution_count": null,
   "metadata": {},
   "outputs": [],
   "source": []
  },
  {
   "cell_type": "code",
   "execution_count": null,
   "metadata": {},
   "outputs": [],
   "source": []
  },
  {
   "cell_type": "code",
   "execution_count": null,
   "metadata": {},
   "outputs": [],
   "source": []
  },
  {
   "cell_type": "code",
   "execution_count": null,
   "metadata": {},
   "outputs": [],
   "source": []
  },
  {
   "cell_type": "code",
   "execution_count": null,
   "metadata": {},
   "outputs": [],
   "source": []
  },
  {
   "cell_type": "code",
   "execution_count": null,
   "metadata": {},
   "outputs": [],
   "source": []
  },
  {
   "cell_type": "code",
   "execution_count": null,
   "metadata": {},
   "outputs": [],
   "source": []
  },
  {
   "cell_type": "code",
   "execution_count": null,
   "metadata": {},
   "outputs": [],
   "source": []
  },
  {
   "cell_type": "code",
   "execution_count": null,
   "metadata": {},
   "outputs": [],
   "source": []
  },
  {
   "cell_type": "code",
   "execution_count": null,
   "metadata": {},
   "outputs": [],
   "source": []
  },
  {
   "cell_type": "code",
   "execution_count": null,
   "metadata": {},
   "outputs": [],
   "source": []
  }
 ],
 "metadata": {
  "kernelspec": {
   "display_name": "Python 3",
   "language": "python",
   "name": "python3"
  },
  "language_info": {
   "codemirror_mode": {
    "name": "ipython",
    "version": 3
   },
   "file_extension": ".py",
   "mimetype": "text/x-python",
   "name": "python",
   "nbconvert_exporter": "python",
   "pygments_lexer": "ipython3",
   "version": "3.7.4"
  }
 },
 "nbformat": 4,
 "nbformat_minor": 2
}
