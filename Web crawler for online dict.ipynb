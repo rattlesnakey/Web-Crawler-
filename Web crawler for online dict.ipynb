{
 "cells": [
  {
   "cell_type": "code",
   "execution_count": 5,
   "metadata": {},
   "outputs": [
    {
     "ename": "SyntaxError",
     "evalue": "invalid character in identifier (<ipython-input-5-71110f52c5e9>, line 24)",
     "output_type": "error",
     "traceback": [
      "\u001b[1;36m  File \u001b[1;32m\"<ipython-input-5-71110f52c5e9>\"\u001b[1;36m, line \u001b[1;32m24\u001b[0m\n\u001b[1;33m    result5=result1+“ ”+result2+“ ”+result3+“ ”+result4\u001b[0m\n\u001b[1;37m                    ^\u001b[0m\n\u001b[1;31mSyntaxError\u001b[0m\u001b[1;31m:\u001b[0m invalid character in identifier\n"
     ]
    }
   ],
   "source": [
    "from lxml import etree\n",
    "import requests\n",
    "word=input(\"input the word you wanna search :\")\n",
    "s=requests.Session()#利用session可以模拟同一个对话而不用担心cookie的问题，通常用于模拟登录成功之后的操作\n",
    "headers = {'User-Agent':'Mozilla/5.0 (Macintosh; Intel Mac OS X 10_11_4) AppleWebKit/537.36 (KHTML, like Gecko) Chrome/52.0.2743.116 Safari/537.36'}\n",
    "url=\"https://www.zdic.net/hans/\"\n",
    "url=url+word\n",
    "response=s.get(url,headers=headers)\n",
    "text=response.text\n",
    "html=etree.HTML(text)\n",
    "result1=html.xpath(\"//div[@class='jnr']/p/strong/text()\")#复现\n",
    "#result=html.xpath(\"//div[@class='jnr']/p/strong/span/text()\") 拼音不知道为什么显示不出来\n",
    "result2=html.xpath(\"//div[@class='jnr']/p[2]/text()\")#解释\n",
    "result3=html.xpath(\"//div[@class='jnr']/p[2]/span/text()\")#英语解释\n",
    "result4=html.xpath(\"//div[@class='jnr']/p[3]/span/text()\")#例句\n",
    "result1=result1[0]\n",
    "if result2[len(result2)-1][0]=='∶':\n",
    "    result2=result2[len(result2)-1][1:len(result2[len(result2)-1])]\n",
    "else: result2=result2[len(result2)-1]\n",
    "result3=result3[len(result3)-1][1:len(result3[len(result3)-1])-1]\n",
    "result4=result4[len(result4)-1][0:len(result4[len(result4)-1])]\n",
    "print(result1,result2,result3,result4)\n",
    "f=open('1.txt','w+')\n",
    "result5=result1+“ ”+result2+“ ”+result3+“ ”+result4\n",
    "f.write(result5)"
   ]
  },
  {
   "cell_type": "code",
   "execution_count": null,
   "metadata": {},
   "outputs": [],
   "source": []
  },
  {
   "cell_type": "code",
   "execution_count": null,
   "metadata": {},
   "outputs": [],
   "source": []
  },
  {
   "cell_type": "code",
   "execution_count": null,
   "metadata": {},
   "outputs": [],
   "source": []
  },
  {
   "cell_type": "code",
   "execution_count": null,
   "metadata": {},
   "outputs": [],
   "source": []
  },
  {
   "cell_type": "code",
   "execution_count": null,
   "metadata": {},
   "outputs": [],
   "source": []
  }
 ],
 "metadata": {
  "kernelspec": {
   "display_name": "Python 3",
   "language": "python",
   "name": "python3"
  },
  "language_info": {
   "codemirror_mode": {
    "name": "ipython",
    "version": 3
   },
   "file_extension": ".py",
   "mimetype": "text/x-python",
   "name": "python",
   "nbconvert_exporter": "python",
   "pygments_lexer": "ipython3",
   "version": "3.7.4"
  }
 },
 "nbformat": 4,
 "nbformat_minor": 4
}
