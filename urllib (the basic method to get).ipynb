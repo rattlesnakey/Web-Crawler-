{
 "cells": [
  {
   "cell_type": "code",
   "execution_count": 5,
   "metadata": {},
   "outputs": [
    {
     "name": "stdout",
     "output_type": "stream",
     "text": [
      "<class 'http.client.HTTPResponse'>\n"
     ]
    }
   ],
   "source": [
    "import urllib.request#request可以模仿浏览器去请求一个网页\n",
    "response=urllib.request.urlopen(\"https://www.python.org\")\n",
    "print(type(response))#可以知道它是一个httpresponse的对象，这个对象有很多其他的属性"
   ]
  },
  {
   "cell_type": "code",
   "execution_count": 7,
   "metadata": {},
   "outputs": [
    {
     "name": "stdout",
     "output_type": "stream",
     "text": [
      "200\n",
      "[('Connection', 'close'), ('Content-Length', '48744'), ('Server', 'nginx'), ('Content-Type', 'text/html; charset=utf-8'), ('X-Frame-Options', 'DENY'), ('Via', '1.1 vegur'), ('Via', '1.1 varnish'), ('Accept-Ranges', 'bytes'), ('Date', 'Sun, 22 Mar 2020 06:25:33 GMT'), ('Via', '1.1 varnish'), ('Age', '208'), ('X-Served-By', 'cache-bwi5138-BWI, cache-sjc10032-SJC'), ('X-Cache', 'HIT, HIT'), ('X-Cache-Hits', '2, 3'), ('X-Timer', 'S1584858333.144960,VS0,VE0'), ('Vary', 'Cookie'), ('Strict-Transport-Security', 'max-age=63072000; includeSubDomains')]\n",
      "nginx\n"
     ]
    }
   ],
   "source": [
    "print(response.status)#知道状态码\n",
    "print(response.getheaders())#所有的头以及它对应的信息\n",
    "print(response.getheader('Server'))#查找某个头所对应的信息，这里的意思就是它的服务器是用nginx搭建的"
   ]
  },
  {
   "cell_type": "code",
   "execution_count": null,
   "metadata": {},
   "outputs": [],
   "source": [
    "print(response.read())#html的源码，太长了就不运行了"
   ]
  },
  {
   "cell_type": "code",
   "execution_count": 16,
   "metadata": {},
   "outputs": [
    {
     "name": "stdout",
     "output_type": "stream",
     "text": [
      "b'\\xd6\\xd0'\n",
      "b'\\xd6\\xd0'\n"
     ]
    }
   ],
   "source": [
    "a=bytes('中',encoding='gbk')\n",
    "b='中'.encode('gbk')\n",
    "print(a)\n",
    "print(b)"
   ]
  },
  {
   "cell_type": "code",
   "execution_count": 17,
   "metadata": {},
   "outputs": [],
   "source": [
    "import urllib.parse\n",
    "import urllib.request\n",
    "data=bytes(urllib.parse.urlencode({'word':'hello'}),encoding='utf8')\n",
    "response=urllib.request.urlopen('http://httpbin.org/post',data=data)#这个网址专门用来提供测试用的，可以返回post的信息，当你有data这个\n",
    "#这个参数的时候请求就自动变成post了,parse.urlencode是用来将参数（这里是字典）转化为字符串的，然后以utf8的字节流传过去"
   ]
  },
  {
   "cell_type": "code",
   "execution_count": 23,
   "metadata": {},
   "outputs": [
    {
     "name": "stdout",
     "output_type": "stream",
     "text": [
      "\n"
     ]
    }
   ],
   "source": [
    "print(response.read().decode(\"utf8\"))#可以看到form 里面有了，注意里面的form-urlencoded,所以这是模拟了表单的提交方式"
   ]
  },
  {
   "cell_type": "code",
   "execution_count": null,
   "metadata": {},
   "outputs": [],
   "source": []
  },
  {
   "cell_type": "code",
   "execution_count": null,
   "metadata": {},
   "outputs": [],
   "source": [
    "#还可以在urlopen里面设置timeout=的参数，context参数是ssl.SSLContext类型，用来指定ssl设置的，cafile和capath用来指定ca证书和它的路径"
   ]
  },
  {
   "cell_type": "code",
   "execution_count": 6,
   "metadata": {},
   "outputs": [
    {
     "name": "stdout",
     "output_type": "stream",
     "text": [
      "<class 'bytes'>\n",
      "\n"
     ]
    }
   ],
   "source": [
    "#用request包来构造request对象，然后用urlopen调用该对象\n",
    "from urllib import request,parse\n",
    "url=\"http://httpbin.org/post\"\n",
    "headers={'User-Agent':'Mozilla/4.0(compatible;MSIE 5.5;Windows NT)','Host':'httpbin.org'}#伪装成火狐浏览器，访问httpbin.org\n",
    "dict = {'name':'germey'}\n",
    "data=bytes(parse.urlencode(dict),encoding='utf8')\n",
    "req=request.Request(url=url,data=data,headers=headers,method='POST')\n",
    "response=request.urlopen(req)\n",
    "print(type(response.read()))\n",
    "print(response.read().decode(\"utf8\"))#这个网站专门就是返回这个内容的，decode话就不是字节流，而是字符流，返回的是字节流的内容"
   ]
  },
  {
   "cell_type": "code",
   "execution_count": null,
   "metadata": {},
   "outputs": [],
   "source": []
  },
  {
   "cell_type": "code",
   "execution_count": null,
   "metadata": {},
   "outputs": [],
   "source": []
  },
  {
   "cell_type": "code",
   "execution_count": null,
   "metadata": {},
   "outputs": [],
   "source": []
  },
  {
   "cell_type": "code",
   "execution_count": null,
   "metadata": {},
   "outputs": [],
   "source": []
  },
  {
   "cell_type": "code",
   "execution_count": null,
   "metadata": {},
   "outputs": [],
   "source": []
  },
  {
   "cell_type": "code",
   "execution_count": null,
   "metadata": {},
   "outputs": [],
   "source": []
  },
  {
   "cell_type": "code",
   "execution_count": null,
   "metadata": {},
   "outputs": [],
   "source": [
    "#上面的header也可以用req.add_header('User-Agent','火狐')这样来添加"
   ]
  },
  {
   "cell_type": "code",
   "execution_count": null,
   "metadata": {},
   "outputs": [],
   "source": [
    "#handler用来处理处理登录验证，处理cookie,处理代理设置，用它可以左到http请求的所有事情\n",
    "#比如proxyhandeler,用于设置代理，httppasswordmgr 用于管理密码，维护用户名的密码和表，httpbasicauthhandler 用于管理认证\n",
    "#还有比较重要的类opener 可以用来实现更高级的请求，我们要用handler 来构造opener\n"
   ]
  },
  {
   "cell_type": "code",
   "execution_count": null,
   "metadata": {},
   "outputs": [],
   "source": [
    "from urllib.request import HTTPPasswordMgrWithDefaultRealm, HTTPBasicAuthHandler, build_opener\n",
    "from urllib.error import URLError \n",
    "username = username\n",
    "password ='password'#根据实际情况填写\n",
    "url = 'http: //localhost:5000/' #根据实际情况填写这些身份验证信息等\n",
    "p = HTTPPasswordMgrWithDefaultRealm()\n",
    "p.add_password(None, url, username, password) \n",
    "auth_handler = HTTPBasicAuthHandler(p)#用HTTPPasswordMgrWithDefaultRealm构建一个用户信息，然后用此用户信息构建一个认证，这些都是实例化对象\n",
    "opener = build_opener(auth_handler) #构建一个请求opener对象\n",
    "try: result = opener.open(url) #就是带有验证的去请求到验证后才能进入的页面的信息\n",
    "    html = result.read().decode('utf8') \n",
    "    print(html)\n",
    "except URLError as e: \n",
    "    print(e.reason) "
   ]
  },
  {
   "cell_type": "code",
   "execution_count": null,
   "metadata": {},
   "outputs": [],
   "source": [
    "#用代理，是用代理来请求\n",
    "from urllib.error import URLError \n",
    "from urllib.request import ProxyHandler, build opener \n",
    "proxy _handler = ProxyHandler({ 'http':'http://127.o.o.1:9743', 'https’:’https://127.0.0.1:9743 ’ })\n",
    "opener = build_opener(proxy_handler) #这些handler的设置作为参数去构造opener\n",
    "try: response = opener.open(’https://www.baidu.com')\n",
    "    print(response.read().decode('utf-8'))\n",
    "except URLError as e: \n",
    "    print(e.reason) "
   ]
  },
  {
   "cell_type": "raw",
   "metadata": {},
   "source": [
    "import http.cookiejar, urllib.request \n",
    "cookie = http. cookie jar. CookieJar()#需要先声明一个cookiejar的对象,这个对象是专门用来封装cookie信息的，它里面有决定存储cookie的格式的\n",
    "handler = urllib.request.HTTPCookieProcessor (cookie)#拿cookiejar对象构建一个处理这个对象的handler\n",
    "opener = urllib.request.build opener(handler ) \n",
    "response = opener. open (’http://www.baidu.com') \n",
    "for item in cookie:\n",
    "    print(item.name+”= ”+item.value"
   ]
  },
  {
   "cell_type": "raw",
   "metadata": {},
   "source": [
    "filename  = 'cookies. txt’\n",
    "cookie = http.cookiejar.MozillaCookieJar(filename) #mozillacookiejar是用来生成文件用的，也可以是cookiejar.lwpcooikejar(filename)\n",
    "handler = urllib.request.HTTPCookieProcessor(cookie)\n",
    "opener = urllib.request.build_opener(handler)\n",
    "response = opener.open(’ http://www.baidu.com') \n",
    "cookie.save(ignore_discard=True, ignore_expires=True)"
   ]
  },
  {
   "cell_type": "raw",
   "metadata": {},
   "source": [
    "最后会是这样的格式\n",
    "# Netscape HTTP Cookie File # http://curl.haxx.se/r干c/cookie_spec.html #This is a generated file! Do not edit. \n",
    ".baidu.com TRUE I FALSE 3622386254 .baidu .com TRUE I FALSE 3622386254 .baidu.com TRUE I FALSE \n",
    ".baidl」 . com TRUE I FALSE 3622386254 www .baidu. com FALSE I FALSE www.baidu.com FALSE I FALSE \n",
    "BAIDUID OSAE39BSFS6C1DEC474325CDAS22D44F: FG=1 BIDUPSID OSAE39BSFS6C1DEC474325CDA522D44F H PS PSSID 19638 14S3 17710 18240 21091 18560 17001 21191 21161 PSTM 1474902606 BDSVRTM 0 BD HOME O "
   ]
  },
  {
   "cell_type": "raw",
   "metadata": {},
   "source": [
    "在读取了这些cookie 的信息之后，就可以用它来构造一个cookiehandler然后构造一个opener就可以去请求了\n",
    "From urllib import request, error \n",
    "try:\n",
    "    response = request.urlopen(’https://cuiqingcai.com/index.htm’)\n",
    "except error.HTTPError as e:\n",
    "    print(e.reason, e.code, e.headers, sep=’\\n’) \n",
    "except error.URLError as e: \n",
    "    print(e.reason) \n",
    "else: \n",
    "    print(’ Request Successfully') \n",
    " 可以以这种方式发现问题，防止程序终止运行"
   ]
  },
  {
   "cell_type": "code",
   "execution_count": 33,
   "metadata": {},
   "outputs": [
    {
     "name": "stdout",
     "output_type": "stream",
     "text": [
      "ParseResult(scheme='http', netloc='www.baidu.com', path='/index.html', params='user', query='id=5', fragment='comment')\n"
     ]
    }
   ],
   "source": [
    "from urllib.parse import urlparse \n",
    "result=urlparse('http://www.baidu.com/index.html;user?id=5#comment',scheme='https')#shceme是传入默认的协议\n",
    "print(result)"
   ]
  },
  {
   "cell_type": "code",
   "execution_count": 35,
   "metadata": {},
   "outputs": [
    {
     "name": "stdout",
     "output_type": "stream",
     "text": [
      "http://www.baidu.com/index.html;user?id=5#comment\n"
     ]
    }
   ],
   "source": [
    "from urllib.parse import urlunparse \n",
    "print(urlunparse(result))"
   ]
  },
  {
   "cell_type": "code",
   "execution_count": null,
   "metadata": {},
   "outputs": [],
   "source": [
    "#类似的还有urlsplit,urlunsplit"
   ]
  },
  {
   "cell_type": "code",
   "execution_count": null,
   "metadata": {},
   "outputs": [],
   "source": [
    "\n",
    "#urlencode是用来将字典类型的请求转化成url的请求参数的格式，其实就是url编码格式\n",
    "#parse_qsl()可以用来将url的请求参数个数转化成列表\n",
    "#quote()将中文转化成url编码的形式，unquote就是解码"
   ]
  },
  {
   "cell_type": "code",
   "execution_count": null,
   "metadata": {},
   "outputs": [],
   "source": []
  },
  {
   "cell_type": "code",
   "execution_count": null,
   "metadata": {},
   "outputs": [],
   "source": []
  },
  {
   "cell_type": "code",
   "execution_count": null,
   "metadata": {},
   "outputs": [],
   "source": []
  },
  {
   "cell_type": "code",
   "execution_count": null,
   "metadata": {},
   "outputs": [],
   "source": []
  },
  {
   "cell_type": "code",
   "execution_count": null,
   "metadata": {},
   "outputs": [],
   "source": []
  },
  {
   "cell_type": "code",
   "execution_count": null,
   "metadata": {},
   "outputs": [],
   "source": []
  },
  {
   "cell_type": "code",
   "execution_count": null,
   "metadata": {},
   "outputs": [],
   "source": []
  },
  {
   "cell_type": "code",
   "execution_count": null,
   "metadata": {},
   "outputs": [],
   "source": []
  },
  {
   "cell_type": "code",
   "execution_count": null,
   "metadata": {},
   "outputs": [],
   "source": []
  },
  {
   "cell_type": "code",
   "execution_count": null,
   "metadata": {},
   "outputs": [],
   "source": []
  },
  {
   "cell_type": "code",
   "execution_count": null,
   "metadata": {},
   "outputs": [],
   "source": []
  },
  {
   "cell_type": "code",
   "execution_count": null,
   "metadata": {},
   "outputs": [],
   "source": []
  },
  {
   "cell_type": "code",
   "execution_count": null,
   "metadata": {},
   "outputs": [],
   "source": []
  },
  {
   "cell_type": "code",
   "execution_count": null,
   "metadata": {},
   "outputs": [],
   "source": []
  }
 ],
 "metadata": {
  "kernelspec": {
   "display_name": "Python 3",
   "language": "python",
   "name": "python3"
  },
  "language_info": {
   "codemirror_mode": {
    "name": "ipython",
    "version": 3
   },
   "file_extension": ".py",
   "mimetype": "text/x-python",
   "name": "python",
   "nbconvert_exporter": "python",
   "pygments_lexer": "ipython3",
   "version": "3.7.4"
  }
 },
 "nbformat": 4,
 "nbformat_minor": 2
}
