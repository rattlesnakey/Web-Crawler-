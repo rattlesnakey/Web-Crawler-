{
 "cells": [
  {
   "cell_type": "markdown",
   "metadata": {},
   "source": [
    "\\w 匹配字母数字，下划线 \n",
    "\\W 匹配不是\\w\n",
    "\\s 匹配任意空白字符，等价换行符制表符之类的\n",
    "\\S 表示任意非\\s\n",
    "\\d 数字\n",
    "\\D 非数字\n",
    "\\A 匹配字符串开头\n",
    "\\Z 匹配字符串结尾，如果存在换行，只匹配到换行前的结束字符串\n",
    "\\z 存在换行还会匹配换行符\n",
    "\\G 匹配最后匹配完成的位置\n",
    "\\n 匹配换行符\n",
    "\\t 匹配制表符\n",
    "^ 匹配一行字符串的开头\n",
    "$ 匹配字符串的结尾\n",
    ". 匹配任意字符除了换行符\n",
    "[amk] 表示匹配a,m,k\n",
    "[^abc]表示匹配除了abc之外的字符\n",
    "*匹配0个或多个表达式\n",
    "+匹配一个或多个表达式\n",
    "？匹配0个或1个前面的正则表达式定义的片段\n",
    "{n}精确匹配n个前面的表达式\n",
    "{n，m} 匹配n到m次由前面表达式定义的片段\n",
    "a|b 匹配a或b\n",
    "（）括号内的表达式也表示一个组"
   ]
  },
  {
   "cell_type": "code",
   "execution_count": 9,
   "metadata": {},
   "outputs": [
    {
     "name": "stdout",
     "output_type": "stream",
     "text": [
      "hello 123 4567 world_this\n",
      "(0, 25)\n"
     ]
    }
   ],
   "source": [
    "import re\n",
    "content=\"hello 123 4567 world_this is a regex demo\"\n",
    "result=re.match(\"^hello\\s\\d\\d\\d\\s\\d{4}\\s\\w{10}\",content)#以hello字符串为开头的,\\s空格符，\\d{4}表示4个\\d(以花括号前面的规则重复多个)\n",
    "print(result.group())#group表示的是检索出来的结果\n",
    "# print(result.group())\n",
    "print(result.span())#表示匹配到的结果字符串在原字符串中的位置范围"
   ]
  },
  {
   "cell_type": "code",
   "execution_count": 10,
   "metadata": {},
   "outputs": [
    {
     "name": "stdout",
     "output_type": "stream",
     "text": [
      "hello 1234567 world_this\n",
      "1234567\n"
     ]
    }
   ],
   "source": [
    "content=\"hello 1234567 world_this is a regex demo\"\n",
    "result=re.match(\"^hello\\s(\\d+)\\s\\w{10}\",content)#括号表示我单独要的\\d+表示多个d\n",
    "print(result.group())\n",
    "print(result.group(1))#第一个括号就是1，第二个括号就是2"
   ]
  },
  {
   "cell_type": "code",
   "execution_count": 11,
   "metadata": {},
   "outputs": [
    {
     "name": "stdout",
     "output_type": "stream",
     "text": [
      "hello 1234567 world_this is a regex demo\n"
     ]
    }
   ],
   "source": [
    "result=re.match(\"^hello.*demo$\",content)#.*\"点星\"代表的是通用匹配，.是所有字符，*是重复前面的无限多次，$表示以他前面的字符结尾\n",
    "print(result.group())"
   ]
  },
  {
   "cell_type": "code",
   "execution_count": 16,
   "metadata": {},
   "outputs": [
    {
     "name": "stdout",
     "output_type": "stream",
     "text": [
      "1234567\n",
      "7\n"
     ]
    }
   ],
   "source": [
    "#在你想提取的内容()前面要使用非贪婪匹配，.*? 才能匹配到你要的\n",
    "content=\"hello 1234567 world_this is a regex demo\"\n",
    "result=re.match(\"^he.*?(\\d+).*\",content)#?非贪婪\n",
    "print(result.group(1))\n",
    "result2=re.match(\"^he.*(\\d+).*\",content)\n",
    "print(result2.group(1))"
   ]
  },
  {
   "cell_type": "code",
   "execution_count": null,
   "metadata": {},
   "outputs": [],
   "source": [
    "#字符串的末尾()里面一般不用非贪婪要不查不到任何东西，应该使用贪婪，因为非贪婪是考虑后面的匹配表达式来界定自己"
   ]
  },
  {
   "cell_type": "code",
   "execution_count": 18,
   "metadata": {},
   "outputs": [
    {
     "ename": "AttributeError",
     "evalue": "'NoneType' object has no attribute 'group'",
     "output_type": "error",
     "traceback": [
      "\u001b[1;31m---------------------------------------------------------------------------\u001b[0m",
      "\u001b[1;31mAttributeError\u001b[0m                            Traceback (most recent call last)",
      "\u001b[1;32m<ipython-input-18-d020a5b1d3b2>\u001b[0m in \u001b[0;36m<module>\u001b[1;34m\u001b[0m\n\u001b[0;32m      3\u001b[0m '''\n\u001b[0;32m      4\u001b[0m \u001b[0mresult\u001b[0m\u001b[1;33m=\u001b[0m\u001b[0mre\u001b[0m\u001b[1;33m.\u001b[0m\u001b[0mmatch\u001b[0m\u001b[1;33m(\u001b[0m\u001b[1;34m\"^he.*?(\\d+).*?demo$\"\u001b[0m\u001b[1;33m,\u001b[0m\u001b[0mcontent\u001b[0m\u001b[1;33m)\u001b[0m\u001b[1;31m#?非贪婪\u001b[0m\u001b[1;33m\u001b[0m\u001b[1;33m\u001b[0m\u001b[0m\n\u001b[1;32m----> 5\u001b[1;33m \u001b[0mprint\u001b[0m\u001b[1;33m(\u001b[0m\u001b[0mresult\u001b[0m\u001b[1;33m.\u001b[0m\u001b[0mgroup\u001b[0m\u001b[1;33m(\u001b[0m\u001b[1;36m1\u001b[0m\u001b[1;33m)\u001b[0m\u001b[1;33m)\u001b[0m\u001b[1;33m\u001b[0m\u001b[1;33m\u001b[0m\u001b[0m\n\u001b[0m",
      "\u001b[1;31mAttributeError\u001b[0m: 'NoneType' object has no attribute 'group'"
     ]
    }
   ],
   "source": [
    "content='''hello 1234567 world_this\n",
    "is a regex demo\n",
    "'''\n",
    "result=re.match(\"^he.*?(\\d+).*?demo$\",content)#?非贪婪\n",
    "print(result.group(1))#会报错，因为匹配的是非换行的字符，第二个,*?遇到换行符就不行了"
   ]
  },
  {
   "cell_type": "code",
   "execution_count": 19,
   "metadata": {},
   "outputs": [
    {
     "name": "stdout",
     "output_type": "stream",
     "text": [
      "1234567\n"
     ]
    }
   ],
   "source": [
    "content='''hello 1234567 world_this\n",
    "is a regex demo\n",
    "'''\n",
    "result=re.match(\"^he.*?(\\d+).*?demo$\",content,re.S)#?非贪婪\n",
    "print(result.group(1))#要加re.S这样的修饰符,才可以，是.包括换行符在内的所有字符，经常用到re.s因为html结点经常会有换行符"
   ]
  },
  {
   "cell_type": "markdown",
   "metadata": {},
   "source": [
    "修饰符\n",
    "re.I 匹配对大小不敏感\n",
    "re.L 做本地化识别匹配\n",
    "re.M 多行匹配，影响^和$\n",
    "re.U 根据unicode字符集解析字符，这个标志影响\\w,\\W,\\B,\\b"
   ]
  },
  {
   "cell_type": "markdown",
   "metadata": {},
   "source": [
    "match是从字符串的开头开始匹配的，它更适合用来检测某个字符串是否符合某个正则表达式\n",
    "这里search,用来返回整个字符串中第一个满足正则表达式的字符串\n",
    ".*? 在有re.S 下可以匹配换行符了\n",
    "由于search只能找到第一个满足的，findall()可以找到所有满足条件的\n",
    "以数组的形式装起来所有解，每个解里面的多个group 用元组装起来[(,,),(,,)]\n"
   ]
  },
  {
   "cell_type": "code",
   "execution_count": 23,
   "metadata": {},
   "outputs": [
    {
     "name": "stdout",
     "output_type": "stream",
     "text": [
      "adasdasdadas\n"
     ]
    }
   ],
   "source": [
    "#sub 用来修改的\n",
    "content='541adasdasd12312adas2'\n",
    "pattern='\\d+'\n",
    "content=re.sub(pattern,'',content)#把里面的所有数字去除\n",
    "print(content)"
   ]
  },
  {
   "cell_type": "code",
   "execution_count": null,
   "metadata": {},
   "outputs": [],
   "source": [
    "#re.compile可以将正则字符串编译成正则表达式对象，用在后面重复使用\n",
    "pattern=re.compile('\\d{2}:\\d{2}')\n",
    "#这个pattern可以多次用，也可以往里面添加re.s这样的修饰符，其实compile 相当于是给正则表达式做了一层封装"
   ]
  },
  {
   "cell_type": "code",
   "execution_count": null,
   "metadata": {},
   "outputs": [],
   "source": [
    "#当匹配的内容比较复杂时可以把一些没必要的匹配全部替换成'',然后再findall()\n"
   ]
  },
  {
   "cell_type": "code",
   "execution_count": null,
   "metadata": {},
   "outputs": [],
   "source": []
  },
  {
   "cell_type": "code",
   "execution_count": null,
   "metadata": {},
   "outputs": [],
   "source": []
  },
  {
   "cell_type": "code",
   "execution_count": null,
   "metadata": {},
   "outputs": [],
   "source": []
  },
  {
   "cell_type": "code",
   "execution_count": null,
   "metadata": {},
   "outputs": [],
   "source": []
  },
  {
   "cell_type": "code",
   "execution_count": null,
   "metadata": {},
   "outputs": [],
   "source": []
  },
  {
   "cell_type": "code",
   "execution_count": null,
   "metadata": {},
   "outputs": [],
   "source": []
  },
  {
   "cell_type": "code",
   "execution_count": null,
   "metadata": {},
   "outputs": [],
   "source": []
  },
  {
   "cell_type": "code",
   "execution_count": null,
   "metadata": {},
   "outputs": [],
   "source": []
  },
  {
   "cell_type": "code",
   "execution_count": null,
   "metadata": {},
   "outputs": [],
   "source": []
  },
  {
   "cell_type": "code",
   "execution_count": null,
   "metadata": {},
   "outputs": [],
   "source": []
  },
  {
   "cell_type": "code",
   "execution_count": null,
   "metadata": {},
   "outputs": [],
   "source": []
  },
  {
   "cell_type": "code",
   "execution_count": null,
   "metadata": {},
   "outputs": [],
   "source": []
  },
  {
   "cell_type": "code",
   "execution_count": null,
   "metadata": {},
   "outputs": [],
   "source": []
  }
 ],
 "metadata": {
  "kernelspec": {
   "display_name": "Python 3",
   "language": "python",
   "name": "python3"
  },
  "language_info": {
   "codemirror_mode": {
    "name": "ipython",
    "version": 3
   },
   "file_extension": ".py",
   "mimetype": "text/x-python",
   "name": "python",
   "nbconvert_exporter": "python",
   "pygments_lexer": "ipython3",
   "version": "3.7.4"
  }
 },
 "nbformat": 4,
 "nbformat_minor": 2
}
