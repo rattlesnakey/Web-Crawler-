{
 "cells": [
  {
   "cell_type": "code",
   "execution_count": 4,
   "metadata": {},
   "outputs": [
    {
     "name": "stdout",
     "output_type": "stream",
     "text": [
      "<p class=\"title\" name=\"dromouse\"><b>The Dormouse's story</b></p>\n",
      "<p class=\"story\">Once upon a time there were three little sisters; and their names were \n",
      "<a href=\"http://example.com/elsie\" class=\"sister\" id=\"linkl\"/>,\n",
      "<a href=\"http://example.com/lacie\" class=\"sister\" id=\"link2\">Lacie</a> and\n",
      "<a href=\"http://example.com/tillie\" class=\"sister\" id=\"link3\">tillie</a>;\n",
      "and they lived at the bottom of a well.</p> \n",
      "<p class=\"story\"> ... <ip>\n",
      "</ip></p>\n"
     ]
    }
   ],
   "source": [
    "from pyquery import PyQuery as pq\n",
    "html ='''<html><head><title>The Dormouse's story</title></head>\n",
    "<body>\n",
    "<p class=\"title\" name=\"dromouse\"><b>The Dormouse's story</b></p>\n",
    "<p class=\"story\">Once upon a time there were three little sisters; and their names were \n",
    "<a href=\"http://example.com/elsie\" class=\"sister\" id=\"linkl\"><!- -Elsie- -></a>,\n",
    "<a href=\"http://example.com/lacie\" class=\"sister\" id=\"link2\">Lacie</a> and\n",
    "<a href=\"http://example.com/tillie\" class=\"sister\" id=\"link3\">tillie</a>;\n",
    "and they lived at the bottom of a well.</p> \n",
    "<p class=\"story\"> ... <Ip>\n",
    "'''\n",
    "doc=pq(html)\n",
    "print(doc('p'))"
   ]
  },
  {
   "cell_type": "code",
   "execution_count": 2,
   "metadata": {
    "scrolled": true
   },
   "outputs": [],
   "source": [
    "import pyquery"
   ]
  },
  {
   "cell_type": "code",
   "execution_count": 3,
   "metadata": {},
   "outputs": [
    {
     "name": "stdout",
     "output_type": "stream",
     "text": [
      "Looking in indexes: 'https://pypi.tuna.tsinghua.edu.cn/simple'\n",
      "Collecting featexp==0.0.5\n"
     ]
    },
    {
     "name": "stderr",
     "output_type": "stream",
     "text": [
      "  WARNING: Url ''https://pypi.tuna.tsinghua.edu.cn/simple'/featexp/' is ignored. It is either a non-existing path or lacks a specific scheme.\n",
      "  ERROR: Could not find a version that satisfies the requirement featexp==0.0.5 (from versions: none)\n",
      "ERROR: No matching distribution found for featexp==0.0.5\n",
      "WARNING: Url ''https://pypi.tuna.tsinghua.edu.cn/simple'/pip/' is ignored. It is either a non-existing path or lacks a specific scheme.\n"
     ]
    }
   ],
   "source": [
    "! pip install -i 'https://pypi.tuna.tsinghua.edu.cn/simple'#这只是临时调用而且pypi不稳定"
   ]
  },
  {
   "cell_type": "code",
   "execution_count": null,
   "metadata": {},
   "outputs": [],
   "source": []
  },
  {
   "cell_type": "code",
   "execution_count": null,
   "metadata": {},
   "outputs": [],
   "source": []
  },
  {
   "cell_type": "markdown",
   "metadata": {},
   "source": [
    "doc('#container .list li')意思是先选取id 为container 的节点，然后再从其内部class为list结点的所有li结点\n",
    "它可以直接py(url),也可以直接(filename=)\n",
    "\n",
    "这些和jquery 中的函数完全相同\n",
    "find方法\n",
    "a.find()查找a下面的子孙节点\n",
    "#代表id，.代表clas，这些表达方式应该是css选择器的一种\n",
    "children对应的是子节点\n",
    "parent 查父节点\n",
    "parents查父节点和祖父结点\n",
    "siblings()兄弟节点\n",
    "\n",
    "他返回的还是pyquery的类对象没办法遍历，这里需要调用items方法来遍历\n",
    "a.attr（’herf‘）来拿属性值\n",
    "a.text()拿文本\n",
    "a.html()获取html文本\n",
    "求多个值的话，text()会将所有的文本拼成一个字符串中间以空格隔开\n",
    "\n",
    "\n",
    "还可以对结点进行动态操作\n",
    "addClass和removeClass\n",
    "class=item active 空格隔开算作两个class好像查的时候是.item.active\n",
    "attr只有一个参数的时候是获取属性值，两个参数的时候是添加，一个是属性名一个是属性值\n",
    "html.text不传参数的时候是获取值，如果传入参数的话就是添加值\n",
    "如果想要获取父节点和子节点之间的文本就要先从父节点里面把文本都拿下来，然后再删掉子节点的部分的文本\n",
    "a.find('b').remove(),a是父节点的内容包含了b结点\n",
    "\n",
    "\n",
    "伪类选择器\n",
    "li:first-child\n",
    "last-child\n",
    "nth-child(2)第二个\n",
    "li:gt(2)第三个结点之后的\n",
    "nth-child(2n)偶数位置\n",
    "contain(second)\n",
    "\n",
    "\n",
    "\n"
   ]
  },
  {
   "cell_type": "code",
   "execution_count": 1,
   "metadata": {},
   "outputs": [
    {
     "name": "stdout",
     "output_type": "stream",
     "text": [
      "1\n"
     ]
    }
   ],
   "source": [
    "print(1)"
   ]
  },
  {
   "cell_type": "code",
   "execution_count": 7,
   "metadata": {
    "scrolled": true
   },
   "outputs": [],
   "source": []
  },
  {
   "cell_type": "code",
   "execution_count": null,
   "metadata": {},
   "outputs": [],
   "source": []
  },
  {
   "cell_type": "code",
   "execution_count": null,
   "metadata": {},
   "outputs": [],
   "source": []
  },
  {
   "cell_type": "code",
   "execution_count": null,
   "metadata": {},
   "outputs": [],
   "source": []
  }
 ],
 "metadata": {
  "kernelspec": {
   "display_name": "Python 3",
   "language": "python",
   "name": "python3"
  },
  "language_info": {
   "codemirror_mode": {
    "name": "ipython",
    "version": 3
   },
   "file_extension": ".py",
   "mimetype": "text/x-python",
   "name": "python",
   "nbconvert_exporter": "python",
   "pygments_lexer": "ipython3",
   "version": "3.7.4"
  }
 },
 "nbformat": 4,
 "nbformat_minor": 2
}
